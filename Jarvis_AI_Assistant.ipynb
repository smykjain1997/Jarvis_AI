{
 "cells": [
  {
   "cell_type": "code",
   "execution_count": null,
   "metadata": {},
   "outputs": [],
   "source": [
    "import pyttsx3   #basically this library converts into audio\n",
    "import speech_recognition as sr #this helps for input our audio"
   ]
  },
  {
   "cell_type": "code",
   "execution_count": null,
   "metadata": {},
   "outputs": [],
   "source": [
    "import datetime   #import datetime library\n",
    "import wikipedia #search from wikipedia\n",
    "import webbrowser as wb  #use for search in chrome\n",
    "import os #works for reading and writing the file \n",
    "import pyautogui #helps in taking the screenshot\n",
    "import psutil  #update us the battery and cpu of system\n",
    "import pyjokes #for telling us the joke\n",
    "import smtplib  #email library"
   ]
  },
  {
   "cell_type": "code",
   "execution_count": null,
   "metadata": {},
   "outputs": [],
   "source": [
    "eng=pyttsx3.init() #initialize the library"
   ]
  },
  {
   "cell_type": "code",
   "execution_count": null,
   "metadata": {},
   "outputs": [],
   "source": [
    "def speak(a):    #define a function for what the user want to listen as print here\n",
    "    eng.say(a)\n",
    "    eng.runAndWait()"
   ]
  },
  {
   "cell_type": "code",
   "execution_count": null,
   "metadata": {},
   "outputs": [],
   "source": [
    "def time():\n",
    "    t=datetime.datetime.now().strftime(\"%I :%M :%S\")\n",
    "    speak(\"The current time is\") #tells us the current time \n",
    "    speak(t)"
   ]
  },
  {
   "cell_type": "code",
   "execution_count": null,
   "metadata": {},
   "outputs": [],
   "source": [
    "#lets call the current date \n",
    "def date():\n",
    "    yr=int(datetime.datetime.now().year)\n",
    "    mn=int(datetime.datetime.now().month)\n",
    "    d=int(datetime.datetime.now().day)\n",
    "    speak(\"and the current date is\")\n",
    "    speak([d,mn,yr])"
   ]
  },
  {
   "cell_type": "code",
   "execution_count": null,
   "metadata": {},
   "outputs": [],
   "source": [
    "def hour():   #getting the gretting according to the day time \n",
    "    hr=datetime.datetime.now().hour\n",
    "    if hr>=6 and hr<12:\n",
    "        speak(\"good morning\")\n",
    "    elif hr>=12 and hr<17:\n",
    "        speak(\"good afternoon\")\n",
    "    elif hr>=17 and hr<19:\n",
    "        speak(\"good evening\")\n",
    "    else:\n",
    "        speak(\"good night\")"
   ]
  },
  {
   "cell_type": "code",
   "execution_count": null,
   "metadata": {},
   "outputs": [],
   "source": [
    "def wishme():    #make function jst for practice\n",
    "    speak(\"Hello sir\")\n",
    "    hour()\n",
    "    time()\n",
    "    date()\n",
    "    speak(\"Jarvis at your service , how may i can help you\")"
   ]
  },
  {
   "cell_type": "code",
   "execution_count": null,
   "metadata": {},
   "outputs": [],
   "source": [
    "def takecom():\n",
    "    r = sr.Recognizer()\n",
    "    with sr.Microphone() as source:\n",
    "        print(\"Listening...\")\n",
    "        r.pause_threshold=1\n",
    "        audio=r.listen(source)\n",
    "        \n",
    "    try:\n",
    "        print(\"Reconizing..\")\n",
    "        query=r.recognize_google(audio, language=\"en-in\")\n",
    "        print(query)\n",
    "        speak(query)\n",
    "        \n",
    "    except Exception as e:\n",
    "        print(e)\n",
    "        speak(\"say it again\")\n",
    "        return \"None\"\n",
    "    return query"
   ]
  },
  {
   "cell_type": "code",
   "execution_count": null,
   "metadata": {},
   "outputs": [],
   "source": [
    "def email(to,content):    #send an email to somenone by the help of Jarvis AI \n",
    "    server =smtplib.SMTP('smtp.gmail.com',587)\n",
    "    server.ehlo()\n",
    "    server.starttls()\n",
    "    server.login('abc@gmail.com','password')\n",
    "    server.sendmail('abc@gmail.com',to,content)\n",
    "    server.close()"
   ]
  },
  {
   "cell_type": "code",
   "execution_count": null,
   "metadata": {},
   "outputs": [],
   "source": [
    "def screenshot():\n",
    "    img=pyautogui.screenshot()\n",
    "    img.save(\"ss.png\")"
   ]
  },
  {
   "cell_type": "code",
   "execution_count": null,
   "metadata": {},
   "outputs": [],
   "source": [
    "def cpu():\n",
    "    cpu=str(psutil.cpu_percent())\n",
    "    speak(\"cpu percentage is\"+cpu)\n",
    "    battery=psutil.sensors_battery()\n",
    "    speak(\"batter percentage is\")\n",
    "    speak(battery.percent)"
   ]
  },
  {
   "cell_type": "code",
   "execution_count": null,
   "metadata": {},
   "outputs": [],
   "source": [
    "def jokes():\n",
    "    t=pyjokes.get_joke()\n",
    "    print(t)\n",
    "    speak(t)"
   ]
  },
  {
   "cell_type": "code",
   "execution_count": null,
   "metadata": {},
   "outputs": [],
   "source": [
    "if __name__=='__main__':\n",
    "    wishme()     #greeting us\n",
    "    \n",
    "    while True:\n",
    "        \n",
    "        query=takecom().lower()\n",
    "        \n",
    "        if 'time' in query:  #tell us the current time\n",
    "            time()      \n",
    "            \n",
    "        elif 'wikipedia' in query:  #search what you want on wikipedia\n",
    "            speak(\"searching\")\n",
    "            query=query.replace(\"wikipedia\",\"\")\n",
    "            result=wikipedia.summary(query,sentences=2)\n",
    "            print(result)\n",
    "            speak(result)\n",
    "            \n",
    "        elif 'email' in query:    #send email\n",
    "            try:\n",
    "                speak(\"what should I say?\")\n",
    "                content=takecom()\n",
    "                to=input(\"email\")\n",
    "                email(to,content)\n",
    "                speak(\"email sent\")\n",
    "            except Exception as e:\n",
    "                print(e)\n",
    "                speak(\"unable to send\")  #if there will be any error \n",
    "                \n",
    "        elif 'search in chrome' in query:\n",
    "            speak(\"What should I search?\")  #what u want to open on google\n",
    "            ch=\"C:/Program Files (x86)/Google/Chrome/Application/chrome.exe %s\"\n",
    "            srch=takecom().lower()\n",
    "            wb.get(ch).open_new_tab(srch+\".com\")\n",
    "            \n",
    "        elif 'logout' in query:            #command to restart the system\n",
    "            os.system(\"shutdown -1\")\n",
    "        elif 'shutdown' in query:\n",
    "            os.system(\"shutdown /s /t 1\")   #shutdown\n",
    "        elif 'restart' in query:\n",
    "            os.system(\"shutdown /r /t 1\")   #restart\n",
    "        elif 'notepad' in query:\n",
    "            os.system(\"notepad\")  #open notepad\n",
    "        elif \"play songs\" in query:\n",
    "            song=\"path of the songs\"   #wanna play songs\n",
    "            sn=os.listdir(song)\n",
    "            os.startfile(os.path.join(song,sn[0])) #here sn[0] plays the first song of that playlist \n",
    "            \n",
    "        elif 'remember that' in query:\n",
    "            speak(\"what should i have to remember that?\")  #remember what you want in a file name data.txt\n",
    "            data=takecom()\n",
    "            speak(\"you tell me to remember that\"+data)\n",
    "            r=open('data.txt','w')\n",
    "            r.write(data)\n",
    "            r.close()\n",
    "        elif 'remember anything' in query:  #remember you what you saved in data.txt \n",
    "            r=open('data.txt','r')\n",
    "            speak(\"you told me to remeber that\"+r.read())\n",
    "            \n",
    "        elif 'screenshot' in query:\n",
    "            screenshot()\n",
    "            speak(\"done\")\n",
    "            print(\"done\") \n",
    "            \n",
    "        elif 'cpu' in query:  #update the status of ur CPU and Battery \n",
    "            cpu()\n",
    "            print(\"done\")\n",
    "            \n",
    "        elif 'joke' in query:  #tells u the joke \n",
    "            jokes()\n",
    "            \n",
    "        elif 'offline' in query:  #For telling the offline\n",
    "            break"
   ]
  }
 ],
 "metadata": {
  "kernelspec": {
   "display_name": "Python 3",
   "language": "python",
   "name": "python3"
  },
  "language_info": {
   "codemirror_mode": {
    "name": "ipython",
    "version": 3
   },
   "file_extension": ".py",
   "mimetype": "text/x-python",
   "name": "python",
   "nbconvert_exporter": "python",
   "pygments_lexer": "ipython3",
   "version": "3.7.4"
  }
 },
 "nbformat": 4,
 "nbformat_minor": 2
}
